{
 "cells": [
  {
   "cell_type": "markdown",
   "metadata": {},
   "source": [
    "# 大学排名定向爬虫"
   ]
  },
  {
   "cell_type": "code",
   "execution_count": 1,
   "metadata": {},
   "outputs": [],
   "source": [
    "import requests\n",
    "from bs4 import BeautifulSoup\n",
    "import bs4\n",
    "import pandas as pd\n",
    "\n",
    "def getHTMLText(url):\n",
    "    try:\n",
    "        r = requests.get(url, timeout = 30)\n",
    "        r.raise_for_status()\n",
    "        r.encoding = r.apparent_encoding\n",
    "        return r.text\n",
    "    except:\n",
    "        return \"\"\n",
    "\n",
    "def fillUnivList(ulist, html):\n",
    "    soup = BeautifulSoup(html, 'html.parser')\n",
    "    for tr in soup.find('tbody').children:\n",
    "        if isinstance(tr, bs4.element.Tag):\n",
    "            tds = tr('td')\n",
    "            ulist.append([tds[0].string, tds[1].string, tds[2].string])\n",
    "    \n",
    "def main():\n",
    "    uinfo = []\n",
    "    url = 'http://www.zuihaodaxue.com/zuihaodaxuepaiming2018.html'\n",
    "    html = getHTMLText(url)\n",
    "    fillUnivList(uinfo, html)\n",
    "    name = (\"rank\",\"university\",\"province\")\n",
    "    test=pd.DataFrame(columns=name,data=uinfo)\n",
    "    test.to_csv('rank.csv')"
   ]
  },
  {
   "cell_type": "code",
   "execution_count": 2,
   "metadata": {},
   "outputs": [],
   "source": [
    "main()"
   ]
  },
  {
   "cell_type": "code",
   "execution_count": null,
   "metadata": {},
   "outputs": [],
   "source": []
  }
 ],
 "metadata": {
  "kernelspec": {
   "display_name": "Python 3",
   "language": "python",
   "name": "python3"
  },
  "language_info": {
   "codemirror_mode": {
    "name": "ipython",
    "version": 3
   },
   "file_extension": ".py",
   "mimetype": "text/x-python",
   "name": "python",
   "nbconvert_exporter": "python",
   "pygments_lexer": "ipython3",
   "version": "3.7.1"
  }
 },
 "nbformat": 4,
 "nbformat_minor": 2
}
