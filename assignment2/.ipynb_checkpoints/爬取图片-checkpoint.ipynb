{
 "cells": [
  {
   "cell_type": "markdown",
   "metadata": {},
   "source": [
    "# 图片爬取"
   ]
  },
  {
   "cell_type": "code",
   "execution_count": 2,
   "metadata": {},
   "outputs": [
    {
     "name": "stdout",
     "output_type": "stream",
     "text": [
      "failed!\n"
     ]
    }
   ],
   "source": [
    "import requests\n",
    "import os\n",
    "url = \"https://www.nationalgeographic.com/animals/2019/01/restaurants-sell-shark-fin-soup-despite-state-bans/#/01-shark-fin-soup-nationalgeographic_2641237.jpg\"\n",
    "#\"http://image.nationalgeograghic.com.cn/2017/0211/20170211061910157.jpg\"\n",
    "#https://www.nationalgeographic.com/photography/best-of-2018/instagram-best-pictures-2018-winners/#/butterfly-trade-catchers-insects-8.jpg\n",
    "#\n",
    "root = \"/Users/hecan/Documents/python2019/\"\n",
    "path = root + url.split('/')[-1]\n",
    "try:\n",
    "    if not os.path.exists(root):\n",
    "        os.mkdir(root)\n",
    "    if not os.path.exists(path):\n",
    "        r = requests.get(url)\n",
    "        with open(path, 'wb') as f:\n",
    "            f.write(r.content)\n",
    "            f.close()\n",
    "            print(\"successful!\") #图片保存成功，但是无法查看\n",
    "    else:\n",
    "        print(\"existed!\")\n",
    "except:\n",
    "    print(\"failed!\")\n"
   ]
  },
  {
   "cell_type": "code",
   "execution_count": null,
   "metadata": {},
   "outputs": [],
   "source": []
  }
 ],
 "metadata": {
  "kernelspec": {
   "display_name": "Python 3",
   "language": "python",
   "name": "python3"
  },
  "language_info": {
   "codemirror_mode": {
    "name": "ipython",
    "version": 3
   },
   "file_extension": ".py",
   "mimetype": "text/x-python",
   "name": "python",
   "nbconvert_exporter": "python",
   "pygments_lexer": "ipython3",
   "version": "3.7.1"
  }
 },
 "nbformat": 4,
 "nbformat_minor": 2
}
